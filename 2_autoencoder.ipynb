{
 "cells": [
  {
   "cell_type": "code",
   "execution_count": 51,
   "id": "optional-capability",
   "metadata": {},
   "outputs": [],
   "source": [
    "from nn import nn\n",
    "import numpy as np\n",
    "import matplotlib.pyplot as plt\n",
    "\n",
    "\n",
    "from sklearn.datasets import load_digits\n",
    "from sklearn.model_selection import train_test_split"
   ]
  },
  {
   "cell_type": "code",
   "execution_count": 52,
   "id": "loving-header",
   "metadata": {},
   "outputs": [],
   "source": [
    "x = load_digits()['data']\n",
    "y = load_digits()['target']"
   ]
  },
  {
   "cell_type": "code",
   "execution_count": 53,
   "id": "exempt-wheel",
   "metadata": {},
   "outputs": [
    {
     "data": {
      "text/plain": [
       "(1797, 64)"
      ]
     },
     "execution_count": 53,
     "metadata": {},
     "output_type": "execute_result"
    }
   ],
   "source": [
    "x.shape"
   ]
  },
  {
   "cell_type": "code",
   "execution_count": 54,
   "id": "changed-tragedy",
   "metadata": {},
   "outputs": [
    {
     "data": {
      "text/plain": [
       "(1797,)"
      ]
     },
     "execution_count": 54,
     "metadata": {},
     "output_type": "execute_result"
    }
   ],
   "source": [
    "y.shape"
   ]
  },
  {
   "cell_type": "code",
   "execution_count": 55,
   "id": "adapted-search",
   "metadata": {},
   "outputs": [],
   "source": [
    "X_train, X_test, y_train, y_test = train_test_split(x,y, test_size=0.1)\n",
    "\n",
    "\n"
   ]
  },
  {
   "cell_type": "code",
   "execution_count": 56,
   "id": "governing-apple",
   "metadata": {},
   "outputs": [],
   "source": [
    "seed = 0\n",
    "epochs = 50\n",
    "loss_function = 'mse'"
   ]
  },
  {
   "cell_type": "code",
   "execution_count": 57,
   "id": "juvenile-disability",
   "metadata": {},
   "outputs": [],
   "source": [
    "arch = [{'input_dim': 64, 'output_dim': 16, 'activation': ''}, {'input_dim': 16, 'output_dim': 64, 'activation': ''}]\n",
    "\n",
    "lrs = [0.01, 0.001, 0.0001]\n",
    "acts = [['sigmoid', 'sigmoid'],\n",
    "       ['relu', 'relu'],\n",
    "       ['sigmoid', 'relu'],\n",
    "       ['relu', 'sigmoid'],\n",
    "      ]\n",
    "batch_sizes = [12, 128, 256, 512]\n"
   ]
  },
  {
   "cell_type": "markdown",
   "id": "romantic-artist",
   "metadata": {},
   "source": [
    "# We will run a hyper parameter search over the batchsize, lr, and activation function options to find the params which leads the lowest validation loss"
   ]
  },
  {
   "cell_type": "code",
   "execution_count": 65,
   "id": "horizontal-sudan",
   "metadata": {},
   "outputs": [],
   "source": [
    "hyperparms_train = {}\n",
    "hyperparms_val = {}\n",
    "mses = {}\n",
    "\n",
    "for lr in lrs:\n",
    "    for batch_size in batch_sizes:\n",
    "        for act in acts:\n",
    "            arch[0]['activation'] = act[0]\n",
    "            arch[1]['activation'] = act[1]\n",
    "            mynn = nn.NeuralNetwork(nn_arch = arch, \n",
    "                               lr = lr, \n",
    "                               seed = seed, \n",
    "                               batch_size=batch_size, \n",
    "                               epochs=epochs, \n",
    "                               loss_function=loss_function)\n",
    "            train_l, val_l = mynn.fit(X_train, X_train, X_test, X_test)\n",
    "            mse = mynn.predict(X_test)\n",
    "            params = f'{lr}_{batch_size}_{act[0]}+{act[1]}'\n",
    "            mses[params] = mse\n",
    "            hyperparms_train[params] = train_l\n",
    "            hyperparms_val[params] = val_l\n",
    "        "
   ]
  },
  {
   "cell_type": "code",
   "execution_count": 72,
   "id": "rental-belly",
   "metadata": {},
   "outputs": [
    {
     "name": "stdout",
     "output_type": "stream",
     "text": [
      "Best hyper params to use is: lr: 0.001, batch_size: 12, l1 activation: sigmoid, l2 activation: relu\n",
      "This results in a validation loss of:  7.6689770542703695\n",
      "This model has an MSE of:  0.6723776284742977\n"
     ]
    }
   ],
   "source": [
    "min_val = {}\n",
    "curr_min = 100000\n",
    "curr_min_params = ''\n",
    "for k,v in hyperparms_val.items():\n",
    "    val = np.min(v)\n",
    "    min_val[k] = val\n",
    "    if val < curr_min:\n",
    "        curr_min = val\n",
    "        curr_min_params=k\n",
    "\n",
    "lr, batch_size, arch = curr_min_params.split('_')\n",
    "l1, l2 = arch.split('+')\n",
    "\n",
    "print(f\"Best hyper params to use is: lr: {lr}, batch_size: {batch_size}, l1 activation: {l1}, l2 activation: {l2}\")\n",
    "print('This results in a validation loss of: ', curr_min)\n",
    "print('This model has an MSE of: ', np.mean(mses[curr_min_params][-1]))\n",
    "      \n",
    "      "
   ]
  },
  {
   "cell_type": "code",
   "execution_count": 73,
   "id": "innovative-piano",
   "metadata": {},
   "outputs": [
    {
     "data": {
      "text/plain": [
       "[<matplotlib.lines.Line2D at 0x7fa363fa98b0>]"
      ]
     },
     "execution_count": 73,
     "metadata": {},
     "output_type": "execute_result"
    },
    {
     "data": {
      "image/png": "[encoded data removed]",
      "text/plain": [
       "<Figure size 432x288 with 1 Axes>"
      ]
     },
     "metadata": {
      "needs_background": "light"
     },
     "output_type": "display_data"
    }
   ],
   "source": [
    "plt.plot(range(epochs),hyperparms_train[curr_min_params])"
   ]
  },
  {
   "cell_type": "code",
   "execution_count": 74,
   "id": "annual-roman",
   "metadata": {},
   "outputs": [
    {
     "data": {
      "text/plain": [
       "[<matplotlib.lines.Line2D at 0x7fa363f76940>]"
      ]
     },
     "execution_count": 74,
     "metadata": {},
     "output_type": "execute_result"
    },
    {
     "data": {
      "image/png": "[encoded data removed]",
      "text/plain": [
       "<Figure size 432x288 with 1 Axes>"
      ]
     },
     "metadata": {
      "needs_background": "light"
     },
     "output_type": "display_data"
    }
   ],
   "source": [
    "plt.plot(range(epochs),hyperparms_val[curr_min_params])"
   ]
  },
  {
   "cell_type": "markdown",
   "id": "linear-philippines",
   "metadata": {},
   "source": [
    "We can see that we're definitely overfitting after around 40 epochs. To solve this, we should include early stopping."
   ]
  },
  {
   "cell_type": "code",
   "execution_count": null,
   "id": "civic-ground",
   "metadata": {},
   "outputs": [],
   "source": []
  },
  {
   "cell_type": "code",
   "execution_count": null,
   "id": "rising-charger",
   "metadata": {},
   "outputs": [],
   "source": []
  }
 ],
 "metadata": {
  "kernelspec": {
   "display_name": "Python 3.8.3 64-bit ('scvi-dev': venv)",
   "language": "python",
   "name": "python38364bitscvidevvenv4fb90fe562ab4b5189ac0b527fd52a97"
  },
  "language_info": {
   "codemirror_mode": {
    "name": "ipython",
    "version": 3
   },
   "file_extension": ".py",
   "mimetype": "text/x-python",
   "name": "python",
   "nbconvert_exporter": "python",
   "pygments_lexer": "ipython3",
   "version": "3.8.3"
  }
 },
 "nbformat": 4,
 "nbformat_minor": 5
}
