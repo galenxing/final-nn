{
 "cells": [
  {
   "cell_type": "code",
   "execution_count": 10,
   "id": "informative-hobby",
   "metadata": {},
   "outputs": [],
   "source": [
    "from nn import io\n",
    "from nn import nn, preprocess\n",
    "\n",
    "\n",
    "from sklearn.model_selection import train_test_split\n",
    "import matplotlib.pyplot as plt\n"
   ]
  },
  {
   "cell_type": "code",
   "execution_count": 2,
   "id": "cordless-relation",
   "metadata": {},
   "outputs": [],
   "source": [
    "\n",
    "\n",
    "rap1 = io.read_text_file('data/rap1-lieb-positives.txt')"
   ]
  },
  {
   "cell_type": "code",
   "execution_count": 3,
   "id": "confirmed-translator",
   "metadata": {},
   "outputs": [],
   "source": [
    "\n",
    "yeast = io.read_fasta_file('data/yeast-upstream-1k-negative.fa')"
   ]
  },
  {
   "cell_type": "markdown",
   "id": "spoken-wallpaper",
   "metadata": {},
   "source": [
    "# process yeast data to same length by just breaking it up into 17 bp chunks\n"
   ]
  },
  {
   "cell_type": "code",
   "execution_count": 4,
   "id": "listed-dancing",
   "metadata": {},
   "outputs": [],
   "source": [
    "neg_seqs = []\n",
    "for seq in yeast:\n",
    "    for i in range(0, len(seq), 17):\n",
    "        if i+17 > len(seq):\n",
    "            i = len(seq)-17\n",
    "        neg_seqs.append(seq[i:i+17])"
   ]
  },
  {
   "cell_type": "code",
   "execution_count": 5,
   "id": "consecutive-remainder",
   "metadata": {},
   "outputs": [
    {
     "data": {
      "text/plain": [
       "186459"
      ]
     },
     "execution_count": 5,
     "metadata": {},
     "output_type": "execute_result"
    }
   ],
   "source": [
    "len(neg_seqs)"
   ]
  },
  {
   "cell_type": "code",
   "execution_count": 6,
   "id": "honey-rachel",
   "metadata": {},
   "outputs": [
    {
     "data": {
      "text/plain": [
       "137"
      ]
     },
     "execution_count": 6,
     "metadata": {},
     "output_type": "execute_result"
    }
   ],
   "source": [
    "len(rap1)"
   ]
  },
  {
   "cell_type": "markdown",
   "id": "anticipated-playlist",
   "metadata": {},
   "source": [
    "# we balance the datasets by oversampling the positive exampels and downsampling the neg examples"
   ]
  },
  {
   "cell_type": "code",
   "execution_count": 11,
   "id": "dimensional-profit",
   "metadata": {},
   "outputs": [],
   "source": [
    "\n",
    "rap1 = preprocess.one_hot_encode_seqs(rap1)\n",
    "neg_seqs = preprocess.one_hot_encode_seqs(neg_seqs)"
   ]
  },
  {
   "cell_type": "code",
   "execution_count": 13,
   "id": "interracial-infrastructure",
   "metadata": {},
   "outputs": [],
   "source": [
    "# 0 is negative\n",
    "# 1 is positive\n",
    "labels = [0]*len(neg_seqs) + [1] * len(rap1)\n",
    "seqs = neg_seqs + rap1\n",
    "\n",
    "x, y = preprocess.sample_seqs(seqs, labels)\n",
    "x = x.astype(int)\n",
    "y = y.astype(int)"
   ]
  },
  {
   "cell_type": "code",
   "execution_count": 14,
   "id": "still-quick",
   "metadata": {},
   "outputs": [],
   "source": [
    "arch = [{'input_dim': 68, 'output_dim': 32, 'activation': ''},  {'input_dim':32, 'output_dim': 1, 'activation': ''}]\n",
    "\n",
    "lrs = [0.01, 0.001]\n",
    "acts = [['sigmoid', 'sigmoid'],\n",
    "       ['relu', 'relu'],\n",
    "      ]\n",
    "batch_sizes = [2048, 4096]\n",
    "\n",
    "\n"
   ]
  },
  {
   "cell_type": "code",
   "execution_count": 15,
   "id": "cubic-brick",
   "metadata": {},
   "outputs": [],
   "source": [
    "seed = 0\n",
    "epochs = 50\n",
    "loss_function = 'bce'"
   ]
  },
  {
   "cell_type": "code",
   "execution_count": 16,
   "id": "sporting-andrew",
   "metadata": {},
   "outputs": [],
   "source": [
    "X_train, X_test, y_train, y_test = train_test_split(x,y, test_size=0.1)\n"
   ]
  },
  {
   "cell_type": "code",
   "execution_count": 17,
   "id": "indirect-roulette",
   "metadata": {},
   "outputs": [
    {
     "data": {
      "text/plain": [
       "(18660,)"
      ]
     },
     "execution_count": 17,
     "metadata": {},
     "output_type": "execute_result"
    }
   ],
   "source": [
    "y_test.shape"
   ]
  },
  {
   "cell_type": "code",
   "execution_count": null,
   "id": "antique-ideal",
   "metadata": {},
   "outputs": [],
   "source": [
    "# lets do a hyperparameter sweep to find the optimial params"
   ]
  },
  {
   "cell_type": "code",
   "execution_count": 20,
   "id": "metallic-sherman",
   "metadata": {},
   "outputs": [
    {
     "name": "stdout",
     "output_type": "stream",
     "text": [
      "0.01\n",
      "0.01\n",
      "0.01\n",
      "0.01\n",
      "0.001\n",
      "0.001\n",
      "0.001\n",
      "0.001\n"
     ]
    }
   ],
   "source": [
    "hyperparms_train = {}\n",
    "hyperparms_val = {}\n",
    "mses = {}\n",
    "\n",
    "for lr in lrs:\n",
    "    for batch_size in batch_sizes:\n",
    "        for act in acts:\n",
    "            print(lr)\n",
    "            arch[0]['activation'] = act[0]\n",
    "            arch[1]['activation'] = act[1]\n",
    "#             arch[2]['activation'] = act[2]\n",
    "#             arch[3]['activation'] = act[3]            \n",
    "            mynn = nn.NeuralNetwork(nn_arch = arch, \n",
    "                               lr = lr, \n",
    "                               seed = seed, \n",
    "                               batch_size=batch_size, \n",
    "                               epochs=epochs, \n",
    "                               loss_function=loss_function)\n",
    "            train_l, val_l = mynn.fit(X_train, y_train, X_test, y_test)\n",
    "            mse = mynn.predict(X_test)\n",
    "            params = f'{lr}_{batch_size}_{act[0]}+{act[1]}'\n",
    "            mses[params] = mse\n",
    "            hyperparms_train[params] = train_l\n",
    "            hyperparms_val[params] = val_l\n",
    "            "
   ]
  },
  {
   "cell_type": "code",
   "execution_count": 22,
   "id": "stuck-friendship",
   "metadata": {},
   "outputs": [
    {
     "name": "stdout",
     "output_type": "stream",
     "text": [
      "Best hyper params to use is: lr: 0.01, batch_size: 4096, l1 activation: relu, l2 activation: relu\n",
      "This results in a validation loss of:  -4.566812762060107\n",
      "This model has an MSE of:  0.0\n"
     ]
    }
   ],
   "source": [
    "import numpy as np\n",
    "min_val = {}\n",
    "curr_min = 100000\n",
    "curr_min_params = ''\n",
    "for k,v in hyperparms_val.items():\n",
    "    val = np.min(v)\n",
    "    min_val[k] = val\n",
    "    if val < curr_min:\n",
    "        curr_min = val\n",
    "        curr_min_params=k\n",
    "\n",
    "lr, batch_size, arch = curr_min_params.split('_')\n",
    "l1, l2 = arch.split('+')\n",
    "\n",
    "print(f\"Best hyper params to use is: lr: {lr}, batch_size: {batch_size}, l1 activation: {l1}, l2 activation: {l2}\")\n",
    "print('This results in a validation loss of: ', curr_min)\n",
    "print('This model has an MSE of: ', np.mean(mses[curr_min_params][-1]))\n",
    "      \n"
   ]
  },
  {
   "cell_type": "code",
   "execution_count": 23,
   "id": "committed-screen",
   "metadata": {},
   "outputs": [
    {
     "data": {
      "text/plain": [
       "[<matplotlib.lines.Line2D at 0x7f991b788c40>]"
      ]
     },
     "execution_count": 23,
     "metadata": {},
     "output_type": "execute_result"
    },
    {
     "data": {
      "image/png": "[encoded data removed]",
      "text/plain": [
       "<Figure size 432x288 with 1 Axes>"
      ]
     },
     "metadata": {
      "needs_background": "light"
     },
     "output_type": "display_data"
    }
   ],
   "source": [
    "plt.plot(range(epochs),hyperparms_train[curr_min_params])"
   ]
  },
  {
   "cell_type": "code",
   "execution_count": 24,
   "id": "linear-native",
   "metadata": {},
   "outputs": [
    {
     "data": {
      "text/plain": [
       "[<matplotlib.lines.Line2D at 0x7f991b6d37c0>]"
      ]
     },
     "execution_count": 24,
     "metadata": {},
     "output_type": "execute_result"
    },
    {
     "data": {
      "image/png": "[encoded data removed]",
      "text/plain": [
       "<Figure size 432x288 with 1 Axes>"
      ]
     },
     "metadata": {
      "needs_background": "light"
     },
     "output_type": "display_data"
    }
   ],
   "source": [
    "plt.plot(range(epochs),hyperparms_val[curr_min_params])"
   ]
  },
  {
   "cell_type": "code",
   "execution_count": 25,
   "id": "occupational-carpet",
   "metadata": {},
   "outputs": [],
   "source": [
    "# for this example, I used the binary cross entropy loss \n",
    "# something is wrong with my BCE backprop though, since the the loss is increasing...."
   ]
  },
  {
   "cell_type": "code",
   "execution_count": null,
   "id": "excited-pursuit",
   "metadata": {},
   "outputs": [],
   "source": []
  },
  {
   "cell_type": "code",
   "execution_count": null,
   "id": "authentic-friendly",
   "metadata": {},
   "outputs": [],
   "source": []
  }
 ],
 "metadata": {
  "kernelspec": {
   "display_name": "Python 3.8.3 64-bit ('scvi-dev': venv)",
   "language": "python",
   "name": "python38364bitscvidevvenv4fb90fe562ab4b5189ac0b527fd52a97"
  },
  "language_info": {
   "codemirror_mode": {
    "name": "ipython",
    "version": 3
   },
   "file_extension": ".py",
   "mimetype": "text/x-python",
   "name": "python",
   "nbconvert_exporter": "python",
   "pygments_lexer": "ipython3",
   "version": "3.8.3"
  }
 },
 "nbformat": 4,
 "nbformat_minor": 5
}
